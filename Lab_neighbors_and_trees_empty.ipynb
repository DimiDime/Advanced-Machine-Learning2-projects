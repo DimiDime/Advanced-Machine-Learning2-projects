{
 "cells": [
  {
   "cell_type": "code",
   "execution_count": 3,
   "metadata": {
    "colab": {},
    "colab_type": "code",
    "executionInfo": {
     "elapsed": 736,
     "status": "ok",
     "timestamp": 1600348232748,
     "user": {
      "displayName": "EMILIO PARRADO HERNANDEZ",
      "photoUrl": "https://lh3.googleusercontent.com/a-/AOh14Ghu-OvX6osyVq8b7J4Xa7D7HiZ61sPYwKqgPxyJ=s64",
      "userId": "09506376050266996513"
     },
     "user_tz": -120
    },
    "id": "lXyR3B1-cst0"
   },
   "outputs": [
    {
     "name": "stderr",
     "output_type": "stream",
     "text": [
      "C:\\Users\\Dimi\\AppData\\Local\\Temp\\ipykernel_2272\\3464626361.py:1: DeprecationWarning: Importing display from IPython.core.display is deprecated since IPython 7.14, please import from IPython display\n",
      "  from IPython.core.display import Image, display\n"
     ]
    }
   ],
   "source": [
    "from IPython.core.display import Image, display"
   ]
  },
  {
   "cell_type": "code",
   "execution_count": 4,
   "metadata": {
    "colab": {},
    "colab_type": "code",
    "executionInfo": {
     "elapsed": 1102,
     "status": "ok",
     "timestamp": 1600348235321,
     "user": {
      "displayName": "EMILIO PARRADO HERNANDEZ",
      "photoUrl": "https://lh3.googleusercontent.com/a-/AOh14Ghu-OvX6osyVq8b7J4Xa7D7HiZ61sPYwKqgPxyJ=s64",
      "userId": "09506376050266996513"
     },
     "user_tz": -120
    },
    "id": "McTkC40Tcst3"
   },
   "outputs": [],
   "source": [
    "%matplotlib inline\n",
    "%config InlineBackend.figure_format = 'retina'  "
   ]
  },
  {
   "cell_type": "code",
   "execution_count": 5,
   "metadata": {
    "colab": {},
    "colab_type": "code",
    "executionInfo": {
     "elapsed": 727,
     "status": "ok",
     "timestamp": 1600348236119,
     "user": {
      "displayName": "EMILIO PARRADO HERNANDEZ",
      "photoUrl": "https://lh3.googleusercontent.com/a-/AOh14Ghu-OvX6osyVq8b7J4Xa7D7HiZ61sPYwKqgPxyJ=s64",
      "userId": "09506376050266996513"
     },
     "user_tz": -120
    },
    "id": "lopz8Y9Ccst6"
   },
   "outputs": [],
   "source": [
    "\n",
    "import matplotlib.pyplot as plt\n",
    "import numpy as np\n",
    "import pandas as pd"
   ]
  },
  {
   "cell_type": "markdown",
   "metadata": {
    "colab_type": "text",
    "id": "-8pLlMwKcst8"
   },
   "source": [
    "## Degree in Data Science and Engineering, group 96\n",
    "## Machine Learning 2\n",
    "### Fall 2022\n",
    "\n",
    "&nbsp;\n",
    "&nbsp;\n",
    "&nbsp;\n",
    "# Lab 1. Neighbors & Trees\n",
    "\n",
    "&nbsp;\n",
    "&nbsp;\n",
    "&nbsp;\n",
    "\n",
    "**Emilio Parrado Hernández**\n",
    "\n",
    "Dept. of Signal Processing and Communications\n",
    "\n",
    "&nbsp;\n",
    "&nbsp;\n",
    "&nbsp;\n",
    "\n",
    "\n",
    "\n",
    "\n",
    "<img src='http://www.tsc.uc3m.es/~emipar/BBVA/INTRO/img/logo_uc3m_foot.jpg' width=400 />"
   ]
  },
  {
   "cell_type": "markdown",
   "metadata": {
    "colab_type": "text",
    "id": "LZAyM0Hscst-"
   },
   "source": [
    "# A real world problem: Boston Housing\n",
    "\n",
    "## UCI repository of ML datasets\n",
    "[Boston Housing](https://scikit-learn.org/stable/modules/generated/sklearn.datasets.load_boston.html#sklearn.datasets.load_boston) is one of the classic benchmark problems in the [UC Irvine Machine Learning Repository](http://archive.ics.uci.edu/ml/index.php). In general, the usual way to compare the performances of different machine learning algorithms consists in to evaluate their performances in solving bechmark problems. There is another approximation, the field of *Statistical Learning Theory* (SLT), that tries to analize these performances through the use of **bounds** on the generalization capabilities of these algorithms. Being pragmatical, although SLT seems a quite more robust approach, real experience teaches that the estimation of performances based on *benchmarks* predict more accurately what practitioners experience when they put this algorithms to work with real data.\n",
    "\n",
    "The UCI repository is a key reference for the design and development of general purpose machine learning algorithms, as it enables to esily gather intuitions about the performance of such algorithms in different situations.  \n",
    "\n",
    "\n"
   ]
  },
  {
   "cell_type": "markdown",
   "metadata": {
    "colab_type": "text",
    "id": "hQyS7-Kzcst-"
   },
   "source": [
    "# 1. Loading data\n",
    " \n",
    "1. Read data (from file, database)\n",
    "2. Separate observations from *targets*\n",
    "3. Divide data into two sets: **training** and **test**\n",
    "\n"
   ]
  },
  {
   "cell_type": "markdown",
   "metadata": {
    "colab_type": "text",
    "id": "9A6S90xBcst_"
   },
   "source": [
    "## 1.1. Read data\n",
    "\n",
    "This dataset can be directly loaded from sklearn. First read the description of the task and features here https://scikit-learn.org/stable/datasets/index.html#boston-dataset"
   ]
  },
  {
   "cell_type": "code",
   "execution_count": 24,
   "metadata": {
    "colab": {
     "base_uri": "https://localhost:8080/",
     "height": 212
    },
    "colab_type": "code",
    "executionInfo": {
     "elapsed": 787,
     "status": "ok",
     "timestamp": 1600348253538,
     "user": {
      "displayName": "EMILIO PARRADO HERNANDEZ",
      "photoUrl": "https://lh3.googleusercontent.com/a-/AOh14Ghu-OvX6osyVq8b7J4Xa7D7HiZ61sPYwKqgPxyJ=s64",
      "userId": "09506376050266996513"
     },
     "user_tz": -120
    },
    "id": "aIgJdjQGcst_",
    "outputId": "adcac967-04de-4807-acfb-1fd5f7654549"
   },
   "outputs": [
    {
     "name": "stdout",
     "output_type": "stream",
     "text": [
      "The data set is formed by 506 observations in 13 dimensions\n"
     ]
    },
    {
     "name": "stderr",
     "output_type": "stream",
     "text": [
      "C:\\ProgramData\\Anaconda3\\lib\\site-packages\\sklearn\\utils\\deprecation.py:87: FutureWarning: Function load_boston is deprecated; `load_boston` is deprecated in 1.0 and will be removed in 1.2.\n",
      "\n",
      "    The Boston housing prices dataset has an ethical problem. You can refer to\n",
      "    the documentation of this function for further details.\n",
      "\n",
      "    The scikit-learn maintainers therefore strongly discourage the use of this\n",
      "    dataset unless the purpose of the code is to study and educate about\n",
      "    ethical issues in data science and machine learning.\n",
      "\n",
      "    In this special case, you can fetch the dataset from the original\n",
      "    source::\n",
      "\n",
      "        import pandas as pd\n",
      "        import numpy as np\n",
      "\n",
      "\n",
      "        data_url = \"http://lib.stat.cmu.edu/datasets/boston\"\n",
      "        raw_df = pd.read_csv(data_url, sep=\"\\s+\", skiprows=22, header=None)\n",
      "        data = np.hstack([raw_df.values[::2, :], raw_df.values[1::2, :2]])\n",
      "        target = raw_df.values[1::2, 2]\n",
      "\n",
      "    Alternative datasets include the California housing dataset (i.e.\n",
      "    :func:`~sklearn.datasets.fetch_california_housing`) and the Ames housing\n",
      "    dataset. You can load the datasets as follows::\n",
      "\n",
      "        from sklearn.datasets import fetch_california_housing\n",
      "        housing = fetch_california_housing()\n",
      "\n",
      "    for the California housing dataset and::\n",
      "\n",
      "        from sklearn.datasets import fetch_openml\n",
      "        housing = fetch_openml(name=\"house_prices\", as_frame=True)\n",
      "\n",
      "    for the Ames housing dataset.\n",
      "    \n",
      "  warnings.warn(msg, category=FutureWarning)\n"
     ]
    },
    {
     "data": {
      "text/html": [
       "<div>\n",
       "<style scoped>\n",
       "    .dataframe tbody tr th:only-of-type {\n",
       "        vertical-align: middle;\n",
       "    }\n",
       "\n",
       "    .dataframe tbody tr th {\n",
       "        vertical-align: top;\n",
       "    }\n",
       "\n",
       "    .dataframe thead th {\n",
       "        text-align: right;\n",
       "    }\n",
       "</style>\n",
       "<table border=\"1\" class=\"dataframe\">\n",
       "  <thead>\n",
       "    <tr style=\"text-align: right;\">\n",
       "      <th></th>\n",
       "      <th>CRIM</th>\n",
       "      <th>ZN</th>\n",
       "      <th>INDUS</th>\n",
       "      <th>CHAS</th>\n",
       "      <th>NOX</th>\n",
       "      <th>RM</th>\n",
       "      <th>AGE</th>\n",
       "      <th>DIS</th>\n",
       "      <th>RAD</th>\n",
       "      <th>TAX</th>\n",
       "      <th>PTRATIO</th>\n",
       "      <th>B</th>\n",
       "      <th>LSTAT</th>\n",
       "      <th>target</th>\n",
       "    </tr>\n",
       "  </thead>\n",
       "  <tbody>\n",
       "    <tr>\n",
       "      <th>0</th>\n",
       "      <td>0.00632</td>\n",
       "      <td>18.0</td>\n",
       "      <td>2.31</td>\n",
       "      <td>0.0</td>\n",
       "      <td>0.538</td>\n",
       "      <td>6.575</td>\n",
       "      <td>65.2</td>\n",
       "      <td>4.0900</td>\n",
       "      <td>1.0</td>\n",
       "      <td>296.0</td>\n",
       "      <td>15.3</td>\n",
       "      <td>396.90</td>\n",
       "      <td>4.98</td>\n",
       "      <td>24.0</td>\n",
       "    </tr>\n",
       "    <tr>\n",
       "      <th>1</th>\n",
       "      <td>0.02731</td>\n",
       "      <td>0.0</td>\n",
       "      <td>7.07</td>\n",
       "      <td>0.0</td>\n",
       "      <td>0.469</td>\n",
       "      <td>6.421</td>\n",
       "      <td>78.9</td>\n",
       "      <td>4.9671</td>\n",
       "      <td>2.0</td>\n",
       "      <td>242.0</td>\n",
       "      <td>17.8</td>\n",
       "      <td>396.90</td>\n",
       "      <td>9.14</td>\n",
       "      <td>21.6</td>\n",
       "    </tr>\n",
       "    <tr>\n",
       "      <th>2</th>\n",
       "      <td>0.02729</td>\n",
       "      <td>0.0</td>\n",
       "      <td>7.07</td>\n",
       "      <td>0.0</td>\n",
       "      <td>0.469</td>\n",
       "      <td>7.185</td>\n",
       "      <td>61.1</td>\n",
       "      <td>4.9671</td>\n",
       "      <td>2.0</td>\n",
       "      <td>242.0</td>\n",
       "      <td>17.8</td>\n",
       "      <td>392.83</td>\n",
       "      <td>4.03</td>\n",
       "      <td>34.7</td>\n",
       "    </tr>\n",
       "    <tr>\n",
       "      <th>3</th>\n",
       "      <td>0.03237</td>\n",
       "      <td>0.0</td>\n",
       "      <td>2.18</td>\n",
       "      <td>0.0</td>\n",
       "      <td>0.458</td>\n",
       "      <td>6.998</td>\n",
       "      <td>45.8</td>\n",
       "      <td>6.0622</td>\n",
       "      <td>3.0</td>\n",
       "      <td>222.0</td>\n",
       "      <td>18.7</td>\n",
       "      <td>394.63</td>\n",
       "      <td>2.94</td>\n",
       "      <td>33.4</td>\n",
       "    </tr>\n",
       "    <tr>\n",
       "      <th>4</th>\n",
       "      <td>0.06905</td>\n",
       "      <td>0.0</td>\n",
       "      <td>2.18</td>\n",
       "      <td>0.0</td>\n",
       "      <td>0.458</td>\n",
       "      <td>7.147</td>\n",
       "      <td>54.2</td>\n",
       "      <td>6.0622</td>\n",
       "      <td>3.0</td>\n",
       "      <td>222.0</td>\n",
       "      <td>18.7</td>\n",
       "      <td>396.90</td>\n",
       "      <td>5.33</td>\n",
       "      <td>36.2</td>\n",
       "    </tr>\n",
       "  </tbody>\n",
       "</table>\n",
       "</div>"
      ],
      "text/plain": [
       "      CRIM    ZN  INDUS  CHAS    NOX     RM   AGE     DIS  RAD    TAX  \\\n",
       "0  0.00632  18.0   2.31   0.0  0.538  6.575  65.2  4.0900  1.0  296.0   \n",
       "1  0.02731   0.0   7.07   0.0  0.469  6.421  78.9  4.9671  2.0  242.0   \n",
       "2  0.02729   0.0   7.07   0.0  0.469  7.185  61.1  4.9671  2.0  242.0   \n",
       "3  0.03237   0.0   2.18   0.0  0.458  6.998  45.8  6.0622  3.0  222.0   \n",
       "4  0.06905   0.0   2.18   0.0  0.458  7.147  54.2  6.0622  3.0  222.0   \n",
       "\n",
       "   PTRATIO       B  LSTAT  target  \n",
       "0     15.3  396.90   4.98    24.0  \n",
       "1     17.8  396.90   9.14    21.6  \n",
       "2     17.8  392.83   4.03    34.7  \n",
       "3     18.7  394.63   2.94    33.4  \n",
       "4     18.7  396.90   5.33    36.2  "
      ]
     },
     "execution_count": 24,
     "metadata": {},
     "output_type": "execute_result"
    }
   ],
   "source": [
    "from sklearn.datasets import load_boston\n",
    "# read data from sklearn and create a pandas dataframe\n",
    "boston = load_boston()\n",
    "data = boston['data'] # the observations\n",
    "print(\"The data set is formed by {0:d} observations in {1:d} dimensions\".format(data.shape[0], data.shape[1]))\n",
    "targets = boston['target'] # the targets\n",
    "columns = [cc for cc in boston['feature_names']] +['target']\n",
    "boston_df = pd.DataFrame(np.vstack((data.T, targets)).T, columns=columns) \n",
    "boston_df.head() # print 5 rows of the dataframe"
   ]
  },
  {
   "cell_type": "code",
   "execution_count": 5,
   "metadata": {
    "colab": {
     "base_uri": "https://localhost:8080/",
     "height": 304
    },
    "colab_type": "code",
    "executionInfo": {
     "elapsed": 721,
     "status": "ok",
     "timestamp": 1600348303060,
     "user": {
      "displayName": "EMILIO PARRADO HERNANDEZ",
      "photoUrl": "https://lh3.googleusercontent.com/a-/AOh14Ghu-OvX6osyVq8b7J4Xa7D7HiZ61sPYwKqgPxyJ=s64",
      "userId": "09506376050266996513"
     },
     "user_tz": -120
    },
    "id": "oEpqPlEocsuC",
    "outputId": "f3820d29-84a4-470a-c4d8-8c5c281354c2"
   },
   "outputs": [
    {
     "data": {
      "text/html": [
       "<div>\n",
       "<style scoped>\n",
       "    .dataframe tbody tr th:only-of-type {\n",
       "        vertical-align: middle;\n",
       "    }\n",
       "\n",
       "    .dataframe tbody tr th {\n",
       "        vertical-align: top;\n",
       "    }\n",
       "\n",
       "    .dataframe thead th {\n",
       "        text-align: right;\n",
       "    }\n",
       "</style>\n",
       "<table border=\"1\" class=\"dataframe\">\n",
       "  <thead>\n",
       "    <tr style=\"text-align: right;\">\n",
       "      <th></th>\n",
       "      <th>CRIM</th>\n",
       "      <th>ZN</th>\n",
       "      <th>INDUS</th>\n",
       "      <th>CHAS</th>\n",
       "      <th>NOX</th>\n",
       "      <th>RM</th>\n",
       "      <th>AGE</th>\n",
       "      <th>DIS</th>\n",
       "      <th>RAD</th>\n",
       "      <th>TAX</th>\n",
       "      <th>PTRATIO</th>\n",
       "      <th>B</th>\n",
       "      <th>LSTAT</th>\n",
       "      <th>target</th>\n",
       "    </tr>\n",
       "  </thead>\n",
       "  <tbody>\n",
       "    <tr>\n",
       "      <th>count</th>\n",
       "      <td>506.000000</td>\n",
       "      <td>506.000000</td>\n",
       "      <td>506.000000</td>\n",
       "      <td>506.000000</td>\n",
       "      <td>506.000000</td>\n",
       "      <td>506.000000</td>\n",
       "      <td>506.000000</td>\n",
       "      <td>506.000000</td>\n",
       "      <td>506.000000</td>\n",
       "      <td>506.000000</td>\n",
       "      <td>506.000000</td>\n",
       "      <td>506.000000</td>\n",
       "      <td>506.000000</td>\n",
       "      <td>506.000000</td>\n",
       "    </tr>\n",
       "    <tr>\n",
       "      <th>mean</th>\n",
       "      <td>3.613524</td>\n",
       "      <td>11.363636</td>\n",
       "      <td>11.136779</td>\n",
       "      <td>0.069170</td>\n",
       "      <td>0.554695</td>\n",
       "      <td>6.284634</td>\n",
       "      <td>68.574901</td>\n",
       "      <td>3.795043</td>\n",
       "      <td>9.549407</td>\n",
       "      <td>408.237154</td>\n",
       "      <td>18.455534</td>\n",
       "      <td>356.674032</td>\n",
       "      <td>12.653063</td>\n",
       "      <td>22.532806</td>\n",
       "    </tr>\n",
       "    <tr>\n",
       "      <th>std</th>\n",
       "      <td>8.601545</td>\n",
       "      <td>23.322453</td>\n",
       "      <td>6.860353</td>\n",
       "      <td>0.253994</td>\n",
       "      <td>0.115878</td>\n",
       "      <td>0.702617</td>\n",
       "      <td>28.148861</td>\n",
       "      <td>2.105710</td>\n",
       "      <td>8.707259</td>\n",
       "      <td>168.537116</td>\n",
       "      <td>2.164946</td>\n",
       "      <td>91.294864</td>\n",
       "      <td>7.141062</td>\n",
       "      <td>9.197104</td>\n",
       "    </tr>\n",
       "    <tr>\n",
       "      <th>min</th>\n",
       "      <td>0.006320</td>\n",
       "      <td>0.000000</td>\n",
       "      <td>0.460000</td>\n",
       "      <td>0.000000</td>\n",
       "      <td>0.385000</td>\n",
       "      <td>3.561000</td>\n",
       "      <td>2.900000</td>\n",
       "      <td>1.129600</td>\n",
       "      <td>1.000000</td>\n",
       "      <td>187.000000</td>\n",
       "      <td>12.600000</td>\n",
       "      <td>0.320000</td>\n",
       "      <td>1.730000</td>\n",
       "      <td>5.000000</td>\n",
       "    </tr>\n",
       "    <tr>\n",
       "      <th>25%</th>\n",
       "      <td>0.082045</td>\n",
       "      <td>0.000000</td>\n",
       "      <td>5.190000</td>\n",
       "      <td>0.000000</td>\n",
       "      <td>0.449000</td>\n",
       "      <td>5.885500</td>\n",
       "      <td>45.025000</td>\n",
       "      <td>2.100175</td>\n",
       "      <td>4.000000</td>\n",
       "      <td>279.000000</td>\n",
       "      <td>17.400000</td>\n",
       "      <td>375.377500</td>\n",
       "      <td>6.950000</td>\n",
       "      <td>17.025000</td>\n",
       "    </tr>\n",
       "    <tr>\n",
       "      <th>50%</th>\n",
       "      <td>0.256510</td>\n",
       "      <td>0.000000</td>\n",
       "      <td>9.690000</td>\n",
       "      <td>0.000000</td>\n",
       "      <td>0.538000</td>\n",
       "      <td>6.208500</td>\n",
       "      <td>77.500000</td>\n",
       "      <td>3.207450</td>\n",
       "      <td>5.000000</td>\n",
       "      <td>330.000000</td>\n",
       "      <td>19.050000</td>\n",
       "      <td>391.440000</td>\n",
       "      <td>11.360000</td>\n",
       "      <td>21.200000</td>\n",
       "    </tr>\n",
       "    <tr>\n",
       "      <th>75%</th>\n",
       "      <td>3.677083</td>\n",
       "      <td>12.500000</td>\n",
       "      <td>18.100000</td>\n",
       "      <td>0.000000</td>\n",
       "      <td>0.624000</td>\n",
       "      <td>6.623500</td>\n",
       "      <td>94.075000</td>\n",
       "      <td>5.188425</td>\n",
       "      <td>24.000000</td>\n",
       "      <td>666.000000</td>\n",
       "      <td>20.200000</td>\n",
       "      <td>396.225000</td>\n",
       "      <td>16.955000</td>\n",
       "      <td>25.000000</td>\n",
       "    </tr>\n",
       "    <tr>\n",
       "      <th>max</th>\n",
       "      <td>88.976200</td>\n",
       "      <td>100.000000</td>\n",
       "      <td>27.740000</td>\n",
       "      <td>1.000000</td>\n",
       "      <td>0.871000</td>\n",
       "      <td>8.780000</td>\n",
       "      <td>100.000000</td>\n",
       "      <td>12.126500</td>\n",
       "      <td>24.000000</td>\n",
       "      <td>711.000000</td>\n",
       "      <td>22.000000</td>\n",
       "      <td>396.900000</td>\n",
       "      <td>37.970000</td>\n",
       "      <td>50.000000</td>\n",
       "    </tr>\n",
       "  </tbody>\n",
       "</table>\n",
       "</div>"
      ],
      "text/plain": [
       "             CRIM          ZN       INDUS        CHAS         NOX          RM  \\\n",
       "count  506.000000  506.000000  506.000000  506.000000  506.000000  506.000000   \n",
       "mean     3.613524   11.363636   11.136779    0.069170    0.554695    6.284634   \n",
       "std      8.601545   23.322453    6.860353    0.253994    0.115878    0.702617   \n",
       "min      0.006320    0.000000    0.460000    0.000000    0.385000    3.561000   \n",
       "25%      0.082045    0.000000    5.190000    0.000000    0.449000    5.885500   \n",
       "50%      0.256510    0.000000    9.690000    0.000000    0.538000    6.208500   \n",
       "75%      3.677083   12.500000   18.100000    0.000000    0.624000    6.623500   \n",
       "max     88.976200  100.000000   27.740000    1.000000    0.871000    8.780000   \n",
       "\n",
       "              AGE         DIS         RAD         TAX     PTRATIO           B  \\\n",
       "count  506.000000  506.000000  506.000000  506.000000  506.000000  506.000000   \n",
       "mean    68.574901    3.795043    9.549407  408.237154   18.455534  356.674032   \n",
       "std     28.148861    2.105710    8.707259  168.537116    2.164946   91.294864   \n",
       "min      2.900000    1.129600    1.000000  187.000000   12.600000    0.320000   \n",
       "25%     45.025000    2.100175    4.000000  279.000000   17.400000  375.377500   \n",
       "50%     77.500000    3.207450    5.000000  330.000000   19.050000  391.440000   \n",
       "75%     94.075000    5.188425   24.000000  666.000000   20.200000  396.225000   \n",
       "max    100.000000   12.126500   24.000000  711.000000   22.000000  396.900000   \n",
       "\n",
       "            LSTAT      target  \n",
       "count  506.000000  506.000000  \n",
       "mean    12.653063   22.532806  \n",
       "std      7.141062    9.197104  \n",
       "min      1.730000    5.000000  \n",
       "25%      6.950000   17.025000  \n",
       "50%     11.360000   21.200000  \n",
       "75%     16.955000   25.000000  \n",
       "max     37.970000   50.000000  "
      ]
     },
     "execution_count": 5,
     "metadata": {},
     "output_type": "execute_result"
    }
   ],
   "source": [
    "boston_df.describe() # print simple statistics of all the rows in the dataframe"
   ]
  },
  {
   "cell_type": "markdown",
   "metadata": {
    "colab_type": "text",
    "id": "RUJKv1BXcsuE"
   },
   "source": [
    "## 1.2. Separate observations from targets\n",
    "\n",
    "In this case this is already done by sklearn. The method [`load_boston`](https://scikit-learn.org/stable/modules/generated/sklearn.datasets.load_boston.html#sklearn.datasets.load_boston) returns a python dictionary where key `data` contains the observations and key `target` their corresponding targets."
   ]
  },
  {
   "cell_type": "markdown",
   "metadata": {
    "colab_type": "text",
    "id": "mqUM2rdPcsuH"
   },
   "source": [
    "## 1.3. Divide data into training and test sets\n",
    "\n",
    "The key indicator of the good performance of a machine learning model is its **generalization capability**. This means that the model outputs correct inferences about data not used during the training phase. A common way of addressing this point is to split the data into two disjoint partitions:\n",
    "- the **training set**, observations used by the **training algorithm** to optimize the model (remember, fix values to the free parameters of the model)\n",
    "\n",
    "- the **test set** is a separate set that is processed with an  **already trained model**. We use the test set to assess the **generalization capabilities** of the model. A model presents a good generalization when its performance in the test set is similar to its performance in the training set.\n",
    "\n",
    "\n"
   ]
  },
  {
   "cell_type": "markdown",
   "metadata": {
    "colab_type": "text",
    "id": "ecsViB5IcsuH"
   },
   "source": [
    "Anyway, don't forget that:\n",
    "- **the test set is just another set**. It means that when we eventually put the model **in production** we still need to monitor its performance with the different test sets that we will be getting (every day, hour, week, etc)\n",
    "- Sometimes we try to refine a model  **using the performance in the test sets**. This too usual practice introduces biases in the estimation of the performances of the model as we are  **feeding back information from the test**. Somehow this means that the test is taking part in the training, so the test set can't be considered 100% independent from the training process.\n",
    "\n",
    "\n"
   ]
  },
  {
   "cell_type": "markdown",
   "metadata": {
    "colab_type": "text",
    "id": "DnQTLwhFcsuI"
   },
   "source": [
    "In some datasets the training/test split is already defined. In cases where the data comes in a single set (like this Boston Housing problem) the data scientist needs to propose a division. It is common to leave a larger proportion of data for training purposes than for test. Usual sizes for these sets are\n",
    "- 50% training, 50% test\n",
    "- 70% training, 30% test\n",
    "- 80% training, 20% test\n",
    "\n",
    "The trade-off you have to take into account is the following:\n",
    "- A larger training data means you optimizer will have more information to find suitable values for the parameters. You need a significantly larger number of data compared to the number of free parameters of the model in order to experience a robust learning.\n",
    "- A larger test set means that your estimation of the generalization capabilities of the model with new, unseen data will be more reliable. "
   ]
  },
  {
   "cell_type": "markdown",
   "metadata": {
    "colab_type": "text",
    "id": "gCnsTFXEgn4e"
   },
   "source": [
    "Sklearn has a built-in method to carry out the splitting of a data set in training and test sets: [`train_test_split`](https://scikit-learn.org/stable/modules/generated/sklearn.model_selection.train_test_split.html). Explore it to split your data in a 70% for training, 30% for testing partition. Fix the value of parameter `random_state` to ease reproducibility (I usually use 42)."
   ]
  },
  {
   "cell_type": "code",
   "execution_count": 39,
   "metadata": {
    "colab": {},
    "colab_type": "code",
    "id": "lDHXxMfIcsuJ"
   },
   "outputs": [],
   "source": [
    "#############\n",
    "#           #\n",
    "# YOUR CODE #\n",
    "#           #\n",
    "#############\n",
    "from sklearn.model_selection import train_test_split\n",
    "\n",
    "x_train, x_test, y_train, y_test = train_test_split(data, targets, test_size=0.30, random_state=42)\n"
   ]
  },
  {
   "cell_type": "code",
   "execution_count": 40,
   "metadata": {},
   "outputs": [
    {
     "data": {
      "text/plain": [
       "354"
      ]
     },
     "execution_count": 40,
     "metadata": {},
     "output_type": "execute_result"
    }
   ],
   "source": [
    "len(y_train)"
   ]
  },
  {
   "cell_type": "markdown",
   "metadata": {
    "colab_type": "text",
    "id": "1X1qK-dPcsuK"
   },
   "source": [
    "# 2. First models\n",
    "\n",
    "The first step is to start exploring solutions by learning simple models. We use the 3 families that were reviewed in the lecture: kNN, Decision Trees and Random Forest.\n",
    "\n",
    "Before starting with the learnings with must decide a metric to evaluate the performance of the algorithms. We will use the [$R^2$ statistic](https://scikit-learn.org/stable/modules/model_evaluation.html#r2-score)  (discussed also in the lecture) as it is the default score in sklearn.\n"
   ]
  },
  {
   "cell_type": "markdown",
   "metadata": {
    "colab_type": "text",
    "id": "Y5f6yNC6jrG5"
   },
   "source": [
    "## 2.1 First model with $k$NN\n",
    "\n",
    "Explore different combinations of the **number of neighbors** $k$ **with and without weighting** the vote of each neighbor. \n",
    "- Use plots of $R^2$ versus $k$ to present the results\n",
    "- Decide the configuration of the best model and print the $R^2$ achieved by this best model in the training and in the test set."
   ]
  },
  {
   "cell_type": "code",
   "execution_count": 41,
   "metadata": {
    "colab": {},
    "colab_type": "code",
    "id": "Hm1JjHVccsus"
   },
   "outputs": [],
   "source": [
    "#############\n",
    "#           #\n",
    "# YOUR CODE #\n",
    "#           #\n",
    "#############\n",
    "\n",
    "from sklearn.neighbors import KNeighborsRegressor\n",
    "\n",
    "#range for the number of neighbors to be explored\n",
    "v_nn = [1,2,3,4,5,6,7,8,9,10,20,30,40,50,60,70,80,90,100,200,350]\n",
    "\n",
    "# store the accuracy predicting the training set with uniform weighting of votes\n",
    "r2_entr = np.empty(len(v_nn))\n",
    "\n",
    "# store the accuracy predicting the test set with uniform weighting of votes\n",
    "r2_test = np.empty(len(v_nn))\n",
    "\n",
    "# store the accuracy predicting the training set with votes weighted by inverse distance\n",
    "r2_entr_w = np.empty(len(v_nn))\n",
    "\n",
    "# store the accuracy predicting the test set with votes weighted by inverse distance\n",
    "r2_test_w = np.empty(len(v_nn))\n",
    "\n",
    "\n",
    "#main loop\n",
    "for inn, n_neighbors in enumerate(v_nn):\n",
    "    #instantiate model with uniform voting\n",
    "    knn = KNeighborsRegressor(n_neighbors=n_neighbors)\n",
    "    #train model\n",
    "    knn.fit(x_train, y_train)\n",
    "    #compute scores\n",
    "    r2_entr[inn] = knn.score(x_train, y_train)\n",
    "    r2_test[inn] = knn.score(x_test, y_test)\n",
    "    #instantiate model with weightd voting\n",
    "    knn_w = KNeighborsRegressor(n_neighbors=n_neighbors, weights='distance')\n",
    "    #train model\n",
    "    knn_w.fit(x_train, y_train)\n",
    "    #compute scores\n",
    "    r2_entr_w[inn] = knn_w.score(x_train, y_train)\n",
    "    r2_test_w[inn] = knn_w.score(x_test, y_test)\n",
    "    \n"
   ]
  },
  {
   "cell_type": "code",
   "execution_count": 42,
   "metadata": {},
   "outputs": [
    {
     "data": {
      "image/png": "[encoded data removed]",
      "text/plain": [
       "<Figure size 432x288 with 1 Axes>"
      ]
     },
     "metadata": {
      "image/png": {
       "height": 261,
       "width": 387
      },
      "needs_background": "light"
     },
     "output_type": "display_data"
    },
    {
     "name": "stdout",
     "output_type": "stream",
     "text": [
      "Best k, unit vote for the test set is 3, R^2=0.62\n",
      "Best k, weighted vote for the test set is 4, R^2=0.64\n"
     ]
    }
   ],
   "source": [
    "#####################\n",
    "# CODE FOR PLOTTING #\n",
    "#####################\n",
    "plt.figure()\n",
    "plt.plot(v_nn, r2_entr, label='$R^2$ train')\n",
    "plt.plot(v_nn, r2_test, label='$R^2$ test')\n",
    "plt.plot(v_nn, r2_entr_w, label='$R^2$ train, weighted')\n",
    "plt.plot(v_nn, r2_test_w, label='$R^2$ test, weighted')\n",
    "_ = plt.xlabel('k')\n",
    "_ = plt.ylabel('$R^2$')\n",
    "_ = plt.legend()\n",
    "\n",
    "plt.grid()\n",
    "best_k = v_nn[np.argmax(r2_test)]\n",
    "plt.show()\n",
    "print(\"Best k, unit vote for the test set is {0:d}, R^2={1:.2f}\".format(best_k, np.max(r2_test)))\n",
    "best_k_w = v_nn[np.argmax(r2_test_w)]\n",
    "plt.show()\n",
    "print(\"Best k, weighted vote for the test set is {0:d}, R^2={1:.2f}\".format(best_k_w, np.max(r2_test_w)))\n",
    "\n"
   ]
  },
  {
   "cell_type": "markdown",
   "metadata": {
    "colab_type": "text",
    "id": "2PtBDWO5csvL"
   },
   "source": [
    "## 2.2 First model with Decision Trees\n",
    "\n",
    "Explore different combinations of the **maximum number of leaf nodes** $k$.\n",
    "- Use plots of $R^2$ versus the maximum number of leaves to present the results\n",
    "- Decide the configuration of the best model and print the $R^2$ achieved by this best model in the training and in the test set."
   ]
  },
  {
   "cell_type": "code",
   "execution_count": 43,
   "metadata": {
    "colab": {},
    "colab_type": "code",
    "id": "dhV-rOx5csvR"
   },
   "outputs": [
    {
     "data": {
      "image/png": "[encoded data removed]",
      "text/plain": [
       "<Figure size 432x288 with 1 Axes>"
      ]
     },
     "metadata": {
      "image/png": {
       "height": 261,
       "width": 387
      },
      "needs_background": "light"
     },
     "output_type": "display_data"
    },
    {
     "name": "stdout",
     "output_type": "stream",
     "text": [
      "Best k, unit vote for the test set is 50, R^2=0.88\n"
     ]
    }
   ],
   "source": [
    "#############\n",
    "#           #\n",
    "# YOUR CODE #\n",
    "#           #\n",
    "#############\n",
    "\n",
    "from sklearn.neighbors import KNeighborsRegressor\n",
    "from sklearn.tree import DecisionTreeRegressor\n",
    "\n",
    "#range for the number of neighbors to be explored\n",
    "v_nn = [2,3,4,5,6,7,8,9,10,20,30,40,50,60,70,80,90,100,200,350]\n",
    "\n",
    "# store the accuracy predicting the training set with uniform weighting of votes\n",
    "r2_entr = np.empty(len(v_nn))\n",
    "\n",
    "# store the accuracy predicting the test set with uniform weighting of votes\n",
    "r2_test = np.empty(len(v_nn))\n",
    "\n",
    "# store the accuracy predicting the training set with votes weighted by inverse distance\n",
    "r2_entr_w = np.empty(len(v_nn))\n",
    "\n",
    "# store the accuracy predicting the test set with votes weighted by inverse distance\n",
    "r2_test_w = np.empty(len(v_nn))\n",
    "\n",
    "\n",
    "#main loop\n",
    "for inn, max_leaf in enumerate(v_nn): #max_leaf_nodes=None\n",
    "    #instantiate model with uniform voting\n",
    "    knn = DecisionTreeRegressor(max_leaf_nodes=max_leaf)\n",
    "    #train model\n",
    "    knn.fit(x_train, y_train)\n",
    "    #compute scores\n",
    "    r2_entr[inn] = knn.score(x_train, y_train)\n",
    "    r2_test[inn] = knn.score(x_test, y_test)\n",
    "    \n",
    "#####################\n",
    "# CODE FOR PLOTTING #\n",
    "#####################\n",
    "plt.figure()\n",
    "plt.plot(v_nn, r2_entr, label='$R^2$ train')\n",
    "plt.plot(v_nn, r2_test, label='$R^2$ test')\n",
    "\n",
    "_ = plt.xlabel('k')\n",
    "_ = plt.ylabel('$R^2$')\n",
    "_ = plt.legend()\n",
    "\n",
    "plt.grid()\n",
    "best_k = v_nn[np.argmax(r2_test)]\n",
    "plt.show()\n",
    "print(\"Best k, unit vote for the test set is {0:d}, R^2={1:.2f}\".format(best_k, np.max(r2_test)))\n"
   ]
  },
  {
   "cell_type": "markdown",
   "metadata": {
    "colab_type": "text",
    "id": "8ZxkYsmjcsvS"
   },
   "source": [
    "## 2.3. First model with Random Forests\n",
    "\n",
    "Explore different combinations of the **number of trees in the forest** and of the **maximum number of leaves in each tree**. \n",
    "- For the maximum number of leaves, use just 3 values: \n",
    "  - 3\n",
    "  - the number you selected as better choice for the decision tree\n",
    "  - A reasonable number between 3 and the second choice (look at the $R^2$ vs number of leaves plot to get insights for this choice).\n",
    "\n",
    "- Use plots of $R^2$ versus the number of trees to present the results\n",
    "- Hint: explore the number of trees using logarithmic jumps between 1 and 1000\n",
    "- Decide the configuration of the best model and print the $R^2$ achieved by this best model in the training and in the test set."
   ]
  },
  {
   "cell_type": "code",
   "execution_count": 32,
   "metadata": {
    "colab": {},
    "colab_type": "code",
    "id": "tMpIxsZMcsvf"
   },
   "outputs": [
    {
     "name": "stdout",
     "output_type": "stream",
     "text": [
      "[-8.32987858]\n"
     ]
    },
    {
     "data": {
      "text/plain": [
       "[-8.32987858]"
      ]
     },
     "execution_count": 32,
     "metadata": {},
     "output_type": "execute_result"
    }
   ],
   "source": [
    "#############\n",
    "#           #\n",
    "# YOUR CODE #\n",
    "#           #\n",
    "#############\n",
    "from sklearn.ensemble import RandomForestRegressor\n",
    "from sklearn.datasets import make_regression\n",
    "X, y = make_regression(n_features=4, n_informative=2,random_state=0, shuffle=False)\n",
    "regr = RandomForestRegressor(max_depth=2, random_state=0)\n",
    "regr.fit(X, y)\n",
    "RandomForestRegressor(...)\n",
    "print(regr.predict([[0, 0, 0, 0]]))\n",
    "[-8.32987858]"
   ]
  },
  {
   "cell_type": "markdown",
   "metadata": {
    "colab_type": "text",
    "id": "Mc-c2ywtvnYA"
   },
   "source": [
    "# 3. Simple transformations of features\n",
    "\n",
    "Normalization of the features is one of the most used pre-processing techniques in machine learning. If we consider each feature a **random variable**, the normalization transforms it into a random variable with **zero mean** and **unit variance**.\n",
    "$$\n",
    "x_i \\longrightarrow \\frac{x_i - \\mathbb E\\{x\\}}{\\mbox{std dev}\\{x\\}}\n",
    "$$\n",
    "There is a sklearn module that implements normalization for us: [`StandardScaler`](https://scikit-learn.org/stable/modules/generated/sklearn.preprocessing.StandardScaler.html#sklearn.preprocessing.StandardScaler)\n",
    "\n",
    "`StandardScaler` basic methods `fit` and `transform` will do the work for us:\n",
    "\n"
   ]
  },
  {
   "cell_type": "code",
   "execution_count": 33,
   "metadata": {
    "colab": {},
    "colab_type": "code",
    "id": "xCxNIf7LO1pF"
   },
   "outputs": [
    {
     "name": "stdout",
     "output_type": "stream",
     "text": [
      "Training set\n",
      "Means before -> Means after\n",
      "3.351  ->  -0.000\n",
      "11.717  ->  -0.000\n",
      "11.262  ->  0.000\n",
      "0.077  ->  -0.000\n",
      "0.557  ->  -0.000\n",
      "6.327  ->  0.000\n",
      "68.940  ->  0.000\n",
      "3.762  ->  -0.000\n",
      "9.484  ->  0.000\n",
      "409.133  ->  0.000\n",
      "18.262  ->  0.000\n",
      "358.431  ->  0.000\n",
      "12.498  ->  -0.000\n",
      "\n",
      "Std dev before -> Std dev after\n",
      "7.678  ->  1.000\n",
      "22.947  ->  1.000\n",
      "6.958  ->  1.000\n",
      "0.266  ->  1.000\n",
      "0.118  ->  1.000\n",
      "0.720  ->  1.000\n",
      "27.910  ->  1.000\n",
      "2.141  ->  1.000\n",
      "8.655  ->  1.000\n",
      "166.073  ->  1.000\n",
      "2.242  ->  1.000\n",
      "88.470  ->  1.000\n",
      "7.170  ->  1.000\n",
      "\n",
      "Test set\n",
      "Means before -> Means after\n",
      "4.146  ->  0.103\n",
      "10.647  ->  -0.047\n",
      "10.883  ->  -0.054\n",
      "0.054  ->  -0.086\n",
      "0.549  ->  -0.072\n",
      "6.198  ->  -0.180\n",
      "67.834  ->  -0.040\n",
      "3.861  ->  0.046\n",
      "9.683  ->  0.023\n",
      "406.419  ->  -0.016\n",
      "18.849  ->  0.262\n",
      "353.107  ->  -0.060\n",
      "12.969  ->  0.066\n",
      "\n",
      "Std dev before -> Std dev after\n",
      "10.180  ->  1.326\n",
      "23.983  ->  1.045\n",
      "6.629  ->  0.953\n",
      "0.226  ->  0.849\n",
      "0.112  ->  0.952\n",
      "0.656  ->  0.912\n",
      "28.530  ->  1.022\n",
      "2.023  ->  0.945\n",
      "8.784  ->  1.015\n",
      "172.927  ->  1.041\n",
      "1.933  ->  0.862\n",
      "96.419  ->  1.090\n",
      "7.049  ->  0.983\n",
      "\n"
     ]
    }
   ],
   "source": [
    "from sklearn.preprocessing import StandardScaler\n",
    "scaler = StandardScaler() #instantiate\n",
    "scaler.fit(x_train)  # fit with training data\n",
    "x_train_s = scaler.transform(x_train)\n",
    "x_test_s = scaler.transform(x_test)\n",
    "print(\"Training set\")\n",
    "print(\"Means before -> Means after\")\n",
    "for ii in range(x_train.shape[1]):\n",
    "  print(\"{0:.3f}  ->  {1:.3f}\".format(x_train[:,ii].mean(0),x_train_s[:,ii].mean(0)))\n",
    "print(\"\")\n",
    "print(\"Std dev before -> Std dev after\")\n",
    "for ii in range(x_train.shape[1]):\n",
    "  print(\"{0:.3f}  ->  {1:.3f}\".format(x_train[:,ii].std(0),x_train_s[:,ii].std(0)))\n",
    "print(\"\")\n",
    "\n",
    "print(\"Test set\")\n",
    "print(\"Means before -> Means after\")\n",
    "for ii in range(x_test.shape[1]):\n",
    "  print(\"{0:.3f}  ->  {1:.3f}\".format(x_test[:,ii].mean(0),x_test_s[:,ii].mean(0)))\n",
    "print(\"\")\n",
    "print(\"Std dev before -> Std dev after\")\n",
    "for ii in range(x_train.shape[1]):\n",
    "  print(\"{0:.3f}  ->  {1:.3f}\".format(x_test[:,ii].std(0),x_test_s[:,ii].std(0)))\n",
    "print(\"\")\n",
    "\n"
   ]
  },
  {
   "cell_type": "markdown",
   "metadata": {
    "colab_type": "text",
    "id": "_wqVj2R1-0rS"
   },
   "source": [
    "# REMEMBER TO FIT YOUR SCALER ONLY WITH TRAINING DATA\n",
    "# DO NOT USE TEST DATA TO FIT THE SCALER"
   ]
  },
  {
   "cell_type": "markdown",
   "metadata": {
    "colab_type": "text",
    "id": "6K0hfjGM-_Z8"
   },
   "source": [
    "## 3.1 $k$NN with normalized data\n",
    "Repeat the study in section 2.1 using the scaled data"
   ]
  },
  {
   "cell_type": "code",
   "execution_count": null,
   "metadata": {
    "colab": {},
    "colab_type": "code",
    "id": "2H10gGpM8IGM"
   },
   "outputs": [],
   "source": [
    "#############\n",
    "#           #\n",
    "# YOUR CODE #\n",
    "#           #\n",
    "#############\n",
    "from sklearn.neighbors import KNeighborsRegressor\n",
    "\n",
    "#range for the number of neighbors to be explored\n",
    "v_nn = [1,2,3,4,5,6,7,8,9,10,20,30,40,50,60,70,80,90,100,200,350]\n",
    "\n",
    "# store the accuracy predicting the training set with uniform weighting of votes\n",
    "r2_entr = np.empty(len(v_nn))\n",
    "\n",
    "# store the accuracy predicting the test set with uniform weighting of votes\n",
    "r2_test = np.empty(len(v_nn))\n",
    "\n",
    "# store the accuracy predicting the training set with votes weighted by inverse distance\n",
    "r2_entr_w = np.empty(len(v_nn))\n",
    "\n",
    "# store the accuracy predicting the test set with votes weighted by inverse distance\n",
    "r2_test_w = np.empty(len(v_nn))\n",
    "\n",
    "\n",
    "#main loop\n",
    "for inn, n_neighbors in enumerate(v_nn):\n",
    "    #instantiate model with uniform voting\n",
    "    knn = KNeighborsRegressor(n_neighbors=n_neighbors)\n",
    "    #train model\n",
    "    knn.fit(x_train, y_train)\n",
    "    #compute scores\n",
    "    r2_entr[inn] = knn.score(x_train, y_train)\n",
    "    r2_test[inn] = knn.score(x_test, y_test)\n",
    "    #instantiate model with weightd voting\n",
    "    knn_w = KNeighborsRegressor(n_neighbors=n_neighbors, weights='distance')\n",
    "    #train model\n",
    "    knn_w.fit(x_train, y_train)\n",
    "    #compute scores\n",
    "    r2_entr_w[inn] = knn_w.score(x_train, y_train)\n",
    "    r2_test_w[inn] = knn_w.score(x_test, y_test)\n",
    "    \n"
   ]
  },
  {
   "cell_type": "code",
   "execution_count": null,
   "metadata": {},
   "outputs": [],
   "source": [
    "#####################\n",
    "# CODE FOR PLOTTING #\n",
    "#####################\n",
    "plt.figure()\n",
    "plt.plot(v_nn, r2_entr, label='$R^2$ train')\n",
    "plt.plot(v_nn, r2_test, label='$R^2$ test')\n",
    "plt.plot(v_nn, r2_entr_w, label='$R^2$ train, weighted')\n",
    "plt.plot(v_nn, r2_test_w, label='$R^2$ test, weighted')\n",
    "_ = plt.xlabel('k')\n",
    "_ = plt.ylabel('$R^2$')\n",
    "_ = plt.legend()\n",
    "\n",
    "plt.grid()\n",
    "best_k = v_nn[np.argmax(r2_test)]\n",
    "plt.show()\n",
    "print(\"Best k, unit vote for the test set is {0:d}, R^2={1:.2f}\".format(best_k, np.max(r2_test)))\n",
    "best_k_w = v_nn[np.argmax(r2_test_w)]\n",
    "plt.show()\n",
    "print(\"Best k, weighted vote for the test set is {0:d}, R^2={1:.2f}\".format(best_k_w, np.max(r2_test_w)))\n"
   ]
  },
  {
   "cell_type": "markdown",
   "metadata": {
    "colab_type": "text",
    "id": "Iuucz8x3_mEp"
   },
   "source": [
    "## 3.2 Decision Trees with normalized data\n",
    "Repeat the study in section 2.2 using the scaled data"
   ]
  },
  {
   "cell_type": "code",
   "execution_count": null,
   "metadata": {
    "colab": {},
    "colab_type": "code",
    "id": "qhEwBGv3_eO4"
   },
   "outputs": [],
   "source": [
    "#############\n",
    "#           #\n",
    "# YOUR CODE #\n",
    "#           #\n",
    "#############\n"
   ]
  },
  {
   "cell_type": "markdown",
   "metadata": {
    "colab_type": "text",
    "id": "P3ze-A7m__Jt"
   },
   "source": [
    "## 3.3 Random Forests with normalized data\n",
    "Repeat the study in section 2.3 using the scaled data"
   ]
  },
  {
   "cell_type": "code",
   "execution_count": null,
   "metadata": {
    "colab": {},
    "colab_type": "code",
    "id": "RAVxn220_zSf"
   },
   "outputs": [],
   "source": [
    "#############\n",
    "#           #\n",
    "# YOUR CODE #\n",
    "#           #\n",
    "#############\n"
   ]
  },
  {
   "cell_type": "markdown",
   "metadata": {
    "colab_type": "text",
    "id": "2J7P3Y9wAtmv"
   },
   "source": [
    "# 4. Pipelines\n",
    "\n",
    "Scikit learn provides with a easy and clean way to automatize the scaling before the use of a machine learning method, the [**pipelines**](https://scikit-learn.org/stable/modules/generated/sklearn.pipeline.Pipeline.html). Read the documentation about the use of pipelines and understand the following example."
   ]
  },
  {
   "cell_type": "code",
   "execution_count": 34,
   "metadata": {
    "colab": {},
    "colab_type": "code",
    "id": "8iGBszYH_9WY"
   },
   "outputs": [
    {
     "name": "stdout",
     "output_type": "stream",
     "text": [
      "R^2 in the training set after scaling: 1.00\n",
      "R^2 in the test set after scaling: 0.79\n"
     ]
    }
   ],
   "source": [
    "from sklearn.pipeline import Pipeline\n",
    "\n",
    "# definition of the pipeline with the list of methods to be connected\n",
    "# each member of the list is a tuple: ('name of the stage', StageConstructorMethod(arg1, arg2, ...))\n",
    "pipe = Pipeline([('scaler', StandardScaler()), \n",
    "                 ('kNN', KNeighborsRegressor(n_neighbors=2, weights='distance'))])\n",
    "\"\"\"\n",
    "Fitting the pipeline performs a sequential invocation of the fit methods of \n",
    "all the connected stages. The output of the previous stage serves as input for\n",
    "the next one.\n",
    "\"\"\"\n",
    "pipe.fit(x_train, y_train)\n",
    "\n",
    "# evaluation of the scaler + regressor\n",
    "train_risk = pipe.score(x_train, y_train)\n",
    "test_risk = pipe.score(x_test, y_test)\n",
    "print(\"R^2 in the training set after scaling: {0:.2f}\".format(train_risk))\n",
    "print(\"R^2 in the test set after scaling: {0:.2f}\".format(test_risk))"
   ]
  },
  {
   "cell_type": "markdown",
   "metadata": {
    "colab_type": "text",
    "id": "G5Lnajd5JQvI"
   },
   "source": [
    "# 5. MinMax Scaler\n",
    "Another alternative to the normalization is to scale each feature so that its range of values lays between 0 and 1. Scikit Learn module [`MinMaxScaler`](https://scikit-learn.org/stable/modules/generated/sklearn.preprocessing.MinMaxScaler.html) does this job for us.\n",
    "\n",
    "Repeat sections 3.1, 3.2 and 3.3 but using a MinMax Scaler instead of a StandardScaler and connecting scaler and regressor with a pipeline."
   ]
  },
  {
   "cell_type": "code",
   "execution_count": null,
   "metadata": {
    "colab": {},
    "colab_type": "code",
    "id": "tWyv6BaIJAr_"
   },
   "outputs": [],
   "source": [
    "#############\n",
    "#           #\n",
    "# YOUR CODE #\n",
    "#           #\n",
    "#############\n",
    "\n"
   ]
  },
  {
   "cell_type": "markdown",
   "metadata": {
    "colab_type": "text",
    "id": "RKBJRqBkMFH3"
   },
   "source": [
    "# 6. Wrapping up\n",
    "Discussion, general results\n",
    "- What was the best model to solve the Boston Housing problem?\n",
    "- How significant are the differences in performance?\n",
    "- Which is the impact of scaling the features in the three methods?\n",
    "- Is there any significant difference in performance in the two scalers?\n",
    "\n",
    "About $kNN$\n",
    "- Discuss the impact of scaling.\n",
    "- How is the behavior of $k$NN as $k$ increases?\n",
    "\n",
    "About Decision Trees\n",
    "- Impact of scaling.\n",
    "- Grow and draw a tree with just 4 or 5 leaf nodes and discuss if the features used for these first splits make sense\n",
    "\n",
    "About Random Forest\n",
    "- Impact of scaling the features\n",
    "- Discuss how varies the performance with the number of leaf nodes per tree and the size of the forest."
   ]
  },
  {
   "cell_type": "code",
   "execution_count": null,
   "metadata": {
    "colab": {},
    "colab_type": "code",
    "id": "4ZvD1uTkK813"
   },
   "outputs": [],
   "source": []
  }
 ],
 "metadata": {
  "celltoolbar": "Slideshow",
  "colab": {
   "collapsed_sections": [
    "DgU2fdCqcsuh",
    "8d2odd9rcsui",
    "g0Ea-0-Ncsur",
    "aKNj2quWcsu2",
    "TG6Hczj5csu2",
    "hkaoPI7Ncsu2",
    "xnQzHuwfcsvL",
    "tkhy0RCbcsvS",
    "HjTktM4tcsvT",
    "6QBX3xt8csvT"
   ],
   "name": "Lab_neighbors_and_trees_empty.ipynb",
   "provenance": []
  },
  "kernelspec": {
   "display_name": "Python 3 (ipykernel)",
   "language": "python",
   "name": "python3"
  },
  "language_info": {
   "codemirror_mode": {
    "name": "ipython",
    "version": 3
   },
   "file_extension": ".py",
   "mimetype": "text/x-python",
   "name": "python",
   "nbconvert_exporter": "python",
   "pygments_lexer": "ipython3",
   "version": "3.9.12"
  }
 },
 "nbformat": 4,
 "nbformat_minor": 1
}
